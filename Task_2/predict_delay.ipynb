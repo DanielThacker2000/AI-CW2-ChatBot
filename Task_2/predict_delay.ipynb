{
 "cells": [
  {
   "cell_type": "code",
   "execution_count": 1,
   "id": "592f8dfd",
   "metadata": {},
   "outputs": [
    {
     "name": "stdout",
     "output_type": "stream",
     "text": [
      "{'LIVST': KNeighborsRegressor(algorithm='brute', leaf_size=10, metric='euclidean',\n",
      "                    n_neighbors=31, p=1, weights='distance'), 'STFD': KNeighborsRegressor(algorithm='ball_tree', leaf_size=20, metric='euclidean',\n",
      "                    n_neighbors=25, p=1, weights='distance'), 'SHENFLD': KNeighborsRegressor(algorithm='ball_tree', leaf_size=20, metric='manhattan',\n",
      "                    n_neighbors=51, p=1, weights='distance'), 'CHLMSFD': KNeighborsRegressor(algorithm='ball_tree', leaf_size=40, metric='manhattan',\n",
      "                    n_neighbors=51, p=1), 'CLCHSTR': KNeighborsRegressor(algorithm='brute', leaf_size=10, metric='euclidean',\n",
      "                    n_neighbors=51, p=1), 'MANNGTR': KNeighborsRegressor(algorithm='ball_tree', leaf_size=10, metric='manhattan',\n",
      "                    n_neighbors=51, p=1), 'IPSWICH': KNeighborsRegressor(algorithm='brute', leaf_size=10, metric='euclidean',\n",
      "                    n_neighbors=41, p=1), 'STWMRKT': KNeighborsRegressor(algorithm='brute', leaf_size=10, metric='euclidean',\n",
      "                    n_neighbors=35, p=1), 'DISS': KNeighborsRegressor(algorithm='ball_tree', leaf_size=10, metric='manhattan',\n",
      "                    n_neighbors=51, p=1)}\n"
     ]
    }
   ],
   "source": [
    "import pickle\n",
    "\n",
    "def load_models():\n",
    "\n",
    "    loaded_station_names = ['LIVST', 'STFD', 'SHENFLD', 'CHLMSFD', 'CLCHSTR', 'MANNGTR', 'IPSWICH', 'STWMRKT', 'DISS']\n",
    "    # Load the models from files\n",
    "    loaded_model_dict = {}\n",
    "    for station_name in loaded_station_names:\n",
    "        with open(f'{station_name}_model_knn.pkl', 'rb') as model_file:\n",
    "            loaded_model_dict[station_name] = pickle.load(model_file)\n",
    "    \n",
    "    return loaded_model_dict\n",
    "#MANUALLY CHANGE THE OPENING NAME\n",
    "loaded_models = load_models()\n",
    "print(loaded_models)"
   ]
  },
  {
   "cell_type": "code",
   "execution_count": 12,
   "id": "22e4d16a",
   "metadata": {},
   "outputs": [
    {
     "name": "stdout",
     "output_type": "stream",
     "text": [
      "[[-10   1   1   0   1   0   0   0   0   0   1   0   0   0   0]]\n",
      "Predicted lateness at STFD:  57 minutes\n",
      "Predicted lateness at SHENFLD:  56 minutes\n",
      "Predicted lateness at CHLMSFD:  32 minutes\n",
      "Predicted lateness at CLCHSTR:  19 minutes\n",
      "Predicted lateness at MANNGTR:  20 minutes\n",
      "Predicted lateness at IPSWICH:  19 minutes\n",
      "Predicted lateness at STWMRKT:  19 minutes\n",
      "Predicted lateness at DISS:  21 minutes\n",
      "Predicted lateness at NRCH:  19 minutes\n"
     ]
    }
   ],
   "source": [
    "import numpy as np\n",
    "import warnings\n",
    "warnings.filterwarnings('ignore')\n",
    "\n",
    "def parameterise(lateness, hour, day_of_week):\n",
    "    \"Encodes the input params into machine-readable format\"\n",
    "    def group_hours(hour_func):\n",
    "        for i, (start, end) in enumerate(ranges):\n",
    "            if start <= hour_func <= end:\n",
    "                return f'Group_{i + 1}'\n",
    "        return 'Other'\n",
    "    is_weekend = 0\n",
    "    is_offpeak = 0\n",
    "    \n",
    "    if (day_of_week == 'SAT') or(day_of_week == 'SUN'):\n",
    "        is_weekend = 1\n",
    "        is_offpeak = 1\n",
    "    if (hour >= 9) or (hour <= 2):\n",
    "        is_offpeak = 1\n",
    "    ranges = [(6,9),(10, 15), (16, 19), (20, 23),(0,5)]\n",
    "    group = group_hours(hour)\n",
    "    \n",
    "    one_hot_array = [0] * (len(ranges) )  # Initialize array with zeros\n",
    "    if group != 'Other':\n",
    "        group_index = int(group.split('_')[1]) - 1\n",
    "        one_hot_array[group_index] = 1  # Set the corresponding index to 1\n",
    "    else:\n",
    "        one_hot_array[-1] = 1  # Set the last index to 1 for 'Other' group\n",
    "        \n",
    "    days_of_week = ['FRI','MON','SAT','SUN','THURS','TUES','WEDS']\n",
    "    one_hot_day = [0] * len(days_of_week)  # Initialize array with zeros\n",
    "    if day_of_week in days_of_week:\n",
    "        index = days_of_week.index(day_of_week)\n",
    "        one_hot_day[index] = 1  # Set the corresponding index to 1\n",
    "    output = [lateness, is_weekend, is_offpeak]\n",
    "    for val in one_hot_array:\n",
    "        output.append(val)\n",
    "    for val in one_hot_day:\n",
    "        output.append(val)\n",
    "    output = np.array(output)    \n",
    "    output = output.reshape(1,-1)\n",
    "    return output\n",
    "    \n",
    "    \n",
    "print(parameterise(-10,10,'SAT'))  \n",
    "\n",
    "def predict_lateness(current_station, target,lateness, hour, day, models):\n",
    "    stations = ['LIVST', 'STFD', 'SHENFLD', 'CHLMSFD', 'CLCHSTR', 'MANNGTR', 'IPSWICH', 'STWMRKT', 'DISS', 'NRCH']\n",
    "    starting_index = stations.index(current_station)\n",
    "    #starting_index = starting_index + 1\n",
    "    #parameters = np.array([600,1,1,2,2]) # lateness-weekend-offpeak-day-hour \n",
    "    parameters = parameterise(lateness, hour, day)\n",
    "\n",
    "    next_station = stations[starting_index]\n",
    "    target = 'NRCH'\n",
    "\n",
    "    while next_station != target:  # Stop when you reach target\n",
    "        # Predict lateness at the next station\n",
    "        next_lateness = models[next_station].predict(parameters)\n",
    "        parameters[0][0] = next_lateness\n",
    "\n",
    "        starting_index = starting_index + 1\n",
    "        next_station = stations[starting_index]\n",
    "\n",
    "        # Print the predicted lateness for the next station\n",
    "        print(f\"Predicted lateness at {next_station}: \",parameters[0][0], \"minutes\")\n",
    "        \n",
    "        \n",
    "        \n",
    "target = 'NRCH'\n",
    "current_station = 'LIVST' \n",
    "lateness = 60\n",
    "hour = 18\n",
    "day='SAT'\n",
    "predict_lateness(current_station, target, lateness,hour,day, loaded_models)"
   ]
  }
 ],
 "metadata": {
  "kernelspec": {
   "display_name": "Python 3 (ipykernel)",
   "language": "python",
   "name": "python3"
  },
  "language_info": {
   "codemirror_mode": {
    "name": "ipython",
    "version": 3
   },
   "file_extension": ".py",
   "mimetype": "text/x-python",
   "name": "python",
   "nbconvert_exporter": "python",
   "pygments_lexer": "ipython3",
   "version": "3.11.5"
  }
 },
 "nbformat": 4,
 "nbformat_minor": 5
}
